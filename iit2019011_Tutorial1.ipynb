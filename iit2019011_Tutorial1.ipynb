{
 "cells": [
  {
   "cell_type": "code",
   "execution_count": 1,
   "metadata": {
    "colab": {
     "base_uri": "https://localhost:8080/"
    },
    "id": "xAVhhWEWMIZS",
    "outputId": "424cfaa5-8b2e-455e-8b10-7c07aa02ce3d"
   },
   "outputs": [
    {
     "name": "stdout",
     "output_type": "stream",
     "text": [
      "Wed Jul 28 12:59:35 2021\n"
     ]
    }
   ],
   "source": [
    "import time\n",
    "print (time.ctime())"
   ]
  },
  {
   "cell_type": "code",
   "execution_count": 2,
   "metadata": {
    "colab": {
     "base_uri": "https://localhost:8080/"
    },
    "id": "zL0OG2ffNNvf",
    "outputId": "6bd5c475-5563-430d-d945-a779893bb922"
   },
   "outputs": [
    {
     "name": "stdout",
     "output_type": "stream",
     "text": [
      "Wed Jul 28 13:02:13 2021\n"
     ]
    }
   ],
   "source": [
    "time.sleep(5)\n",
    "print(time.ctime())"
   ]
  },
  {
   "cell_type": "markdown",
   "metadata": {
    "id": "qWqXOMq-OHr5"
   },
   "source": [
    "This is **bold**.\n",
    "This is *italic*.\n",
    "This is ~strikethrough~"
   ]
  },
  {
   "cell_type": "markdown",
   "metadata": {
    "id": "j-wJk0NmONTj"
   },
   "source": [
    "$\\sqrt{3x-1}+(1+x)^2$"
   ]
  },
  {
   "cell_type": "markdown",
   "metadata": {
    "id": "ZTUhyf7-OToA"
   },
   "source": [
    "$e^x=\\sum_{i=0}^\\infty \\frac{1}{i!}x^i$"
   ]
  },
  {
   "cell_type": "markdown",
   "metadata": {
    "id": "fINCjxG8OftD"
   },
   "source": [
    "$u_i(t) = x_i(t) + \\beta(\\hat{x}(t) − x_i(t)) + \\beta \\sum_{k = 1}^{n\n",
    " _v}(x_{i1,k}(t) − x_{i2,k}(t))$\n",
    "\n",
    "$f(x_1, x_2) = 20 + e - 20exp(-0.2 \\sqrt {\\frac {1}{n} (x_1^2 + x_2^2)}) - exp\n",
    "(\\frac {1}{n}(cos(2\\pi x_1) + cos(2\\pi x_2))$\n",
    "$x ∈ [-5, 5]$\n",
    "\n",
    "$A_{m,n} =\n",
    "\\begin{pmatrix}\n",
    " a_{1,1} & a_{1,2} & \\cdots & a_{1,n} \\\\\n",
    " a_{2,1} & a_{2,2} & \\cdots & a_{2,n} \\\\\n",
    " \\vdots & \\vdots & \\ddots & \\vdots \\\\\n",
    " a_{m,1} & a_{m,2} & \\cdots & a_{m,n}\n",
    "\\end{pmatrix}$"
   ]
  },
  {
   "cell_type": "code",
   "execution_count": 3,
   "metadata": {
    "colab": {
     "base_uri": "https://localhost:8080/"
    },
    "id": "ApbZTwnbO8jB",
    "outputId": "3efd523f-8089-4cc2-9707-28a896aa595d"
   },
   "outputs": [
    {
     "data": {
      "text/plain": [
       "['A Great Tutorial on Colab by Tutorialspoint!',\n",
       " 'A Great Tutorial on Colab by Tutorialspoint!']"
      ]
     },
     "execution_count": 3,
     "metadata": {
      "tags": []
     },
     "output_type": "execute_result"
    }
   ],
   "source": [
    "message = 'A Great Tutorial on Colab by Tutorialspoint!'\n",
    "greeting = !echo -e '$message\\n$message'\n",
    "greeting"
   ]
  },
  {
   "cell_type": "code",
   "execution_count": 6,
   "metadata": {
    "colab": {
     "base_uri": "https://localhost:8080/",
     "height": 120
    },
    "id": "dvSLcvCzPDmY",
    "outputId": "e3b0e6b3-1afb-4933-aa2d-6ceaedb88c74"
   },
   "outputs": [
    {
     "name": "stdout",
     "output_type": "stream",
     "text": [
      "wget: option requires an argument -- 'P'\n",
      "wget: missing URL\n",
      "Usage: wget [OPTION]... [URL]...\n",
      "\n",
      "Try `wget --help' for more options.\n"
     ]
    },
    {
     "data": {
      "application/vnd.google.colaboratory.intrinsic+json": {
       "type": "string"
      },
      "text/plain": [
       "'/content/drive/My Drive/app'"
      ]
     },
     "execution_count": 6,
     "metadata": {
      "tags": []
     },
     "output_type": "execute_result"
    }
   ],
   "source": [
    "!wget http://mlr.cs.umass.edu/ml/machine-learning-databases/adult/adult.data -P\n",
    "\"/content/drive/My Drive/app\""
   ]
  },
  {
   "cell_type": "code",
   "execution_count": 7,
   "metadata": {
    "colab": {
     "base_uri": "https://localhost:8080/",
     "height": 408
    },
    "id": "E-3wtREUPn9K",
    "outputId": "1e081737-8511-48b5-85a0-8a4974ec5eac"
   },
   "outputs": [
    {
     "ename": "FileNotFoundError",
     "evalue": "ignored",
     "output_type": "error",
     "traceback": [
      "\u001b[0;31m---------------------------------------------------------------------------\u001b[0m",
      "\u001b[0;31mFileNotFoundError\u001b[0m                         Traceback (most recent call last)",
      "\u001b[0;32m<ipython-input-7-6f8ee26330e2>\u001b[0m in \u001b[0;36m<module>\u001b[0;34m()\u001b[0m\n\u001b[1;32m      1\u001b[0m \u001b[0;32mimport\u001b[0m \u001b[0mpandas\u001b[0m \u001b[0;32mas\u001b[0m \u001b[0mpd\u001b[0m\u001b[0;34m\u001b[0m\u001b[0;34m\u001b[0m\u001b[0m\n\u001b[0;32m----> 2\u001b[0;31m \u001b[0mdata\u001b[0m \u001b[0;34m=\u001b[0m \u001b[0mpd\u001b[0m\u001b[0;34m.\u001b[0m\u001b[0mread_csv\u001b[0m\u001b[0;34m(\u001b[0m\u001b[0;34m\"/content/drive/My Drive/app/adult.data.1\"\u001b[0m\u001b[0;34m)\u001b[0m\u001b[0;34m\u001b[0m\u001b[0;34m\u001b[0m\u001b[0m\n\u001b[0m\u001b[1;32m      3\u001b[0m \u001b[0mdata\u001b[0m\u001b[0;34m.\u001b[0m\u001b[0mhead\u001b[0m\u001b[0;34m(\u001b[0m\u001b[0;36m5\u001b[0m\u001b[0;34m)\u001b[0m\u001b[0;34m\u001b[0m\u001b[0;34m\u001b[0m\u001b[0m\n",
      "\u001b[0;32m/usr/local/lib/python3.7/dist-packages/pandas/io/parsers.py\u001b[0m in \u001b[0;36mread_csv\u001b[0;34m(filepath_or_buffer, sep, delimiter, header, names, index_col, usecols, squeeze, prefix, mangle_dupe_cols, dtype, engine, converters, true_values, false_values, skipinitialspace, skiprows, skipfooter, nrows, na_values, keep_default_na, na_filter, verbose, skip_blank_lines, parse_dates, infer_datetime_format, keep_date_col, date_parser, dayfirst, cache_dates, iterator, chunksize, compression, thousands, decimal, lineterminator, quotechar, quoting, doublequote, escapechar, comment, encoding, dialect, error_bad_lines, warn_bad_lines, delim_whitespace, low_memory, memory_map, float_precision)\u001b[0m\n\u001b[1;32m    686\u001b[0m     )\n\u001b[1;32m    687\u001b[0m \u001b[0;34m\u001b[0m\u001b[0m\n\u001b[0;32m--> 688\u001b[0;31m     \u001b[0;32mreturn\u001b[0m \u001b[0m_read\u001b[0m\u001b[0;34m(\u001b[0m\u001b[0mfilepath_or_buffer\u001b[0m\u001b[0;34m,\u001b[0m \u001b[0mkwds\u001b[0m\u001b[0;34m)\u001b[0m\u001b[0;34m\u001b[0m\u001b[0;34m\u001b[0m\u001b[0m\n\u001b[0m\u001b[1;32m    689\u001b[0m \u001b[0;34m\u001b[0m\u001b[0m\n\u001b[1;32m    690\u001b[0m \u001b[0;34m\u001b[0m\u001b[0m\n",
      "\u001b[0;32m/usr/local/lib/python3.7/dist-packages/pandas/io/parsers.py\u001b[0m in \u001b[0;36m_read\u001b[0;34m(filepath_or_buffer, kwds)\u001b[0m\n\u001b[1;32m    452\u001b[0m \u001b[0;34m\u001b[0m\u001b[0m\n\u001b[1;32m    453\u001b[0m     \u001b[0;31m# Create the parser.\u001b[0m\u001b[0;34m\u001b[0m\u001b[0;34m\u001b[0m\u001b[0;34m\u001b[0m\u001b[0m\n\u001b[0;32m--> 454\u001b[0;31m     \u001b[0mparser\u001b[0m \u001b[0;34m=\u001b[0m \u001b[0mTextFileReader\u001b[0m\u001b[0;34m(\u001b[0m\u001b[0mfp_or_buf\u001b[0m\u001b[0;34m,\u001b[0m \u001b[0;34m**\u001b[0m\u001b[0mkwds\u001b[0m\u001b[0;34m)\u001b[0m\u001b[0;34m\u001b[0m\u001b[0;34m\u001b[0m\u001b[0m\n\u001b[0m\u001b[1;32m    455\u001b[0m \u001b[0;34m\u001b[0m\u001b[0m\n\u001b[1;32m    456\u001b[0m     \u001b[0;32mif\u001b[0m \u001b[0mchunksize\u001b[0m \u001b[0;32mor\u001b[0m \u001b[0miterator\u001b[0m\u001b[0;34m:\u001b[0m\u001b[0;34m\u001b[0m\u001b[0;34m\u001b[0m\u001b[0m\n",
      "\u001b[0;32m/usr/local/lib/python3.7/dist-packages/pandas/io/parsers.py\u001b[0m in \u001b[0;36m__init__\u001b[0;34m(self, f, engine, **kwds)\u001b[0m\n\u001b[1;32m    946\u001b[0m             \u001b[0mself\u001b[0m\u001b[0;34m.\u001b[0m\u001b[0moptions\u001b[0m\u001b[0;34m[\u001b[0m\u001b[0;34m\"has_index_names\"\u001b[0m\u001b[0;34m]\u001b[0m \u001b[0;34m=\u001b[0m \u001b[0mkwds\u001b[0m\u001b[0;34m[\u001b[0m\u001b[0;34m\"has_index_names\"\u001b[0m\u001b[0;34m]\u001b[0m\u001b[0;34m\u001b[0m\u001b[0;34m\u001b[0m\u001b[0m\n\u001b[1;32m    947\u001b[0m \u001b[0;34m\u001b[0m\u001b[0m\n\u001b[0;32m--> 948\u001b[0;31m         \u001b[0mself\u001b[0m\u001b[0;34m.\u001b[0m\u001b[0m_make_engine\u001b[0m\u001b[0;34m(\u001b[0m\u001b[0mself\u001b[0m\u001b[0;34m.\u001b[0m\u001b[0mengine\u001b[0m\u001b[0;34m)\u001b[0m\u001b[0;34m\u001b[0m\u001b[0;34m\u001b[0m\u001b[0m\n\u001b[0m\u001b[1;32m    949\u001b[0m \u001b[0;34m\u001b[0m\u001b[0m\n\u001b[1;32m    950\u001b[0m     \u001b[0;32mdef\u001b[0m \u001b[0mclose\u001b[0m\u001b[0;34m(\u001b[0m\u001b[0mself\u001b[0m\u001b[0;34m)\u001b[0m\u001b[0;34m:\u001b[0m\u001b[0;34m\u001b[0m\u001b[0;34m\u001b[0m\u001b[0m\n",
      "\u001b[0;32m/usr/local/lib/python3.7/dist-packages/pandas/io/parsers.py\u001b[0m in \u001b[0;36m_make_engine\u001b[0;34m(self, engine)\u001b[0m\n\u001b[1;32m   1178\u001b[0m     \u001b[0;32mdef\u001b[0m \u001b[0m_make_engine\u001b[0m\u001b[0;34m(\u001b[0m\u001b[0mself\u001b[0m\u001b[0;34m,\u001b[0m \u001b[0mengine\u001b[0m\u001b[0;34m=\u001b[0m\u001b[0;34m\"c\"\u001b[0m\u001b[0;34m)\u001b[0m\u001b[0;34m:\u001b[0m\u001b[0;34m\u001b[0m\u001b[0;34m\u001b[0m\u001b[0m\n\u001b[1;32m   1179\u001b[0m         \u001b[0;32mif\u001b[0m \u001b[0mengine\u001b[0m \u001b[0;34m==\u001b[0m \u001b[0;34m\"c\"\u001b[0m\u001b[0;34m:\u001b[0m\u001b[0;34m\u001b[0m\u001b[0;34m\u001b[0m\u001b[0m\n\u001b[0;32m-> 1180\u001b[0;31m             \u001b[0mself\u001b[0m\u001b[0;34m.\u001b[0m\u001b[0m_engine\u001b[0m \u001b[0;34m=\u001b[0m \u001b[0mCParserWrapper\u001b[0m\u001b[0;34m(\u001b[0m\u001b[0mself\u001b[0m\u001b[0;34m.\u001b[0m\u001b[0mf\u001b[0m\u001b[0;34m,\u001b[0m \u001b[0;34m**\u001b[0m\u001b[0mself\u001b[0m\u001b[0;34m.\u001b[0m\u001b[0moptions\u001b[0m\u001b[0;34m)\u001b[0m\u001b[0;34m\u001b[0m\u001b[0;34m\u001b[0m\u001b[0m\n\u001b[0m\u001b[1;32m   1181\u001b[0m         \u001b[0;32melse\u001b[0m\u001b[0;34m:\u001b[0m\u001b[0;34m\u001b[0m\u001b[0;34m\u001b[0m\u001b[0m\n\u001b[1;32m   1182\u001b[0m             \u001b[0;32mif\u001b[0m \u001b[0mengine\u001b[0m \u001b[0;34m==\u001b[0m \u001b[0;34m\"python\"\u001b[0m\u001b[0;34m:\u001b[0m\u001b[0;34m\u001b[0m\u001b[0;34m\u001b[0m\u001b[0m\n",
      "\u001b[0;32m/usr/local/lib/python3.7/dist-packages/pandas/io/parsers.py\u001b[0m in \u001b[0;36m__init__\u001b[0;34m(self, src, **kwds)\u001b[0m\n\u001b[1;32m   2008\u001b[0m         \u001b[0mkwds\u001b[0m\u001b[0;34m[\u001b[0m\u001b[0;34m\"usecols\"\u001b[0m\u001b[0;34m]\u001b[0m \u001b[0;34m=\u001b[0m \u001b[0mself\u001b[0m\u001b[0;34m.\u001b[0m\u001b[0musecols\u001b[0m\u001b[0;34m\u001b[0m\u001b[0;34m\u001b[0m\u001b[0m\n\u001b[1;32m   2009\u001b[0m \u001b[0;34m\u001b[0m\u001b[0m\n\u001b[0;32m-> 2010\u001b[0;31m         \u001b[0mself\u001b[0m\u001b[0;34m.\u001b[0m\u001b[0m_reader\u001b[0m \u001b[0;34m=\u001b[0m \u001b[0mparsers\u001b[0m\u001b[0;34m.\u001b[0m\u001b[0mTextReader\u001b[0m\u001b[0;34m(\u001b[0m\u001b[0msrc\u001b[0m\u001b[0;34m,\u001b[0m \u001b[0;34m**\u001b[0m\u001b[0mkwds\u001b[0m\u001b[0;34m)\u001b[0m\u001b[0;34m\u001b[0m\u001b[0;34m\u001b[0m\u001b[0m\n\u001b[0m\u001b[1;32m   2011\u001b[0m         \u001b[0mself\u001b[0m\u001b[0;34m.\u001b[0m\u001b[0munnamed_cols\u001b[0m \u001b[0;34m=\u001b[0m \u001b[0mself\u001b[0m\u001b[0;34m.\u001b[0m\u001b[0m_reader\u001b[0m\u001b[0;34m.\u001b[0m\u001b[0munnamed_cols\u001b[0m\u001b[0;34m\u001b[0m\u001b[0;34m\u001b[0m\u001b[0m\n\u001b[1;32m   2012\u001b[0m \u001b[0;34m\u001b[0m\u001b[0m\n",
      "\u001b[0;32mpandas/_libs/parsers.pyx\u001b[0m in \u001b[0;36mpandas._libs.parsers.TextReader.__cinit__\u001b[0;34m()\u001b[0m\n",
      "\u001b[0;32mpandas/_libs/parsers.pyx\u001b[0m in \u001b[0;36mpandas._libs.parsers.TextReader._setup_parser_source\u001b[0;34m()\u001b[0m\n",
      "\u001b[0;31mFileNotFoundError\u001b[0m: [Errno 2] No such file or directory: '/content/drive/My Drive/app/adult.data.1'"
     ]
    }
   ],
   "source": [
    "import pandas as pd\n",
    "data = pd.read_csv(\"/content/drive/My Drive/app/adult.data.1\")\n",
    "data.head(5)"
   ]
  },
  {
   "cell_type": "code",
   "execution_count": 8,
   "metadata": {
    "colab": {
     "base_uri": "https://localhost:8080/"
    },
    "id": "hn07xDO4QEpC",
    "outputId": "f245f8de-0575-4d81-bdbc-6c2c16559b0d"
   },
   "outputs": [
    {
     "name": "stdout",
     "output_type": "stream",
     "text": [
      "Cloning into 'keras-mnist-tutorial'...\n",
      "remote: Enumerating objects: 26, done.\u001b[K\n",
      "remote: Total 26 (delta 0), reused 0 (delta 0), pack-reused 26\u001b[K\n",
      "Unpacking objects: 100% (26/26), done.\n"
     ]
    }
   ],
   "source": [
    "!git clone https://github.com/wxs/keras-mnist-tutorial.git"
   ]
  },
  {
   "cell_type": "code",
   "execution_count": 9,
   "metadata": {
    "colab": {
     "base_uri": "https://localhost:8080/"
    },
    "id": "JRf741xfQIp3",
    "outputId": "ebda78bf-e8e2-46be-81fc-4955d7da679c"
   },
   "outputs": [
    {
     "name": "stdout",
     "output_type": "stream",
     "text": [
      "bash\t       hostname       su\n",
      "bunzip2        journalctl     sync\n",
      "bzcat\t       kill\t      systemctl\n",
      "bzcmp\t       kmod\t      systemd\n",
      "bzdiff\t       less\t      systemd-ask-password\n",
      "bzegrep        lessecho       systemd-escape\n",
      "bzexe\t       lessfile       systemd-hwdb\n",
      "bzfgrep        lesskey\t      systemd-inhibit\n",
      "bzgrep\t       lesspipe       systemd-machine-id-setup\n",
      "bzip2\t       ln\t      systemd-notify\n",
      "bzip2recover   login\t      systemd-sysusers\n",
      "bzless\t       loginctl       systemd-tmpfiles\n",
      "bzmore\t       ls\t      systemd-tty-ask-password-agent\n",
      "cat\t       lsblk\t      tar\n",
      "chgrp\t       lsmod\t      tempfile\n",
      "chmod\t       mkdir\t      touch\n",
      "chown\t       mknod\t      true\n",
      "cp\t       mktemp\t      udevadm\n",
      "dash\t       more\t      ulockmgr_server\n",
      "date\t       mount\t      umount\n",
      "dd\t       mountpoint     uname\n",
      "df\t       mv\t      uncompress\n",
      "dir\t       networkctl     vdir\n",
      "dmesg\t       nisdomainname  wdctl\n",
      "dnsdomainname  pidof\t      which\n",
      "domainname     ps\t      ypdomainname\n",
      "echo\t       pwd\t      zcat\n",
      "egrep\t       rbash\t      zcmp\n",
      "false\t       readlink       zdiff\n",
      "fgrep\t       rm\t      zegrep\n",
      "findmnt        rmdir\t      zfgrep\n",
      "fuser\t       run-parts      zforce\n",
      "fusermount     sed\t      zgrep\n",
      "grep\t       sh\t      zless\n",
      "gunzip\t       sh.distrib     zmore\n",
      "gzexe\t       sleep\t      znew\n",
      "gzip\t       stty\n"
     ]
    }
   ],
   "source": [
    "!ls /bin"
   ]
  },
  {
   "cell_type": "code",
   "execution_count": 10,
   "metadata": {
    "colab": {
     "base_uri": "https://localhost:8080/"
    },
    "id": "NfGFS6pAQcS9",
    "outputId": "57082dcd-c565-4bf6-8167-6aaefc55280a"
   },
   "outputs": [
    {
     "name": "stdout",
     "output_type": "stream",
     "text": [
      "Drive already mounted at /content/drive; to attempt to forcibly remount, call drive.mount(\"/content/drive\", force_remount=True).\n"
     ]
    }
   ],
   "source": [
    "from google.colab import drive\n",
    "drive.mount('/content/drive')"
   ]
  },
  {
   "cell_type": "code",
   "execution_count": 11,
   "metadata": {
    "colab": {
     "base_uri": "https://localhost:8080/"
    },
    "id": "T9QJUGkUQle_",
    "outputId": "94499fb8-5973-4ada-d47f-7d01c380238f"
   },
   "outputs": [
    {
     "name": "stdout",
     "output_type": "stream",
     "text": [
      "'Copy of Machine Learning for Benginners Day 1.ipynb'\n",
      " iit2019011_Tutorial1.ipynb\n"
     ]
    }
   ],
   "source": [
    "!ls \"/content/drive/My Drive/Colab Notebooks\""
   ]
  },
  {
   "cell_type": "code",
   "execution_count": 12,
   "metadata": {
    "colab": {
     "base_uri": "https://localhost:8080/"
    },
    "id": "q9zQ60AuQp2L",
    "outputId": "eb47b0a8-e641-4798-fa15-995379ffbdd6"
   },
   "outputs": [
    {
     "name": "stdout",
     "output_type": "stream",
     "text": [
      "python3: can't open file '/content/drive/My Drive/Colab Notebooks/hello.py': [Errno 2] No such file or directory\n"
     ]
    }
   ],
   "source": [
    "!python3 \"/content/drive/My Drive/Colab Notebooks/hello.py\""
   ]
  },
  {
   "cell_type": "code",
   "execution_count": 13,
   "metadata": {
    "colab": {
     "base_uri": "https://localhost:8080/"
    },
    "id": "afmCUZB_QzPP",
    "outputId": "841700df-d804-4b67-cfb9-da4a2ec4687b"
   },
   "outputs": [
    {
     "name": "stdout",
     "output_type": "stream",
     "text": [
      "Welcome to TutorialsPoint!\n"
     ]
    }
   ],
   "source": [
    "print(\"Welcome to TutorialsPoint!\")"
   ]
  },
  {
   "cell_type": "code",
   "execution_count": 14,
   "metadata": {
    "colab": {
     "base_uri": "https://localhost:8080/",
     "height": 281
    },
    "id": "RSzmq8d4Q4Hp",
    "outputId": "494637dd-28db-47d0-8838-9fd7779527b2"
   },
   "outputs": [
    {
     "data": {
      "image/png": "[encoded data removed]",
      "text/plain": [
       "<Figure size 432x288 with 1 Axes>"
      ]
     },
     "metadata": {
      "needs_background": "light",
      "tags": []
     },
     "output_type": "display_data"
    }
   ],
   "source": [
    "import numpy as np\n",
    "from matplotlib import pyplot as plt\n",
    "\n",
    "y = np.random.randn(100)\n",
    "x = [x for x in range(len(y))]\n",
    "\n",
    "plt.plot(x, y, '-')\n",
    "plt.fill_between(x, y, 200, where=(y > 195), facecolor='g', alpha=0.6)\n",
    "\n",
    "plt.title(\"Sample Plot\")\n",
    "plt.show()"
   ]
  },
  {
   "cell_type": "code",
   "execution_count": 20,
   "metadata": {
    "id": "p14k4CvVQ9zk"
   },
   "outputs": [],
   "source": [
    "import torch\n",
    "Tensor = torch.randn(4)"
   ]
  },
  {
   "cell_type": "code",
   "execution_count": 21,
   "metadata": {
    "colab": {
     "base_uri": "https://localhost:8080/"
    },
    "id": "a0W-bhhgRlCv",
    "outputId": "a7589f3f-88b2-4e82-c42c-573c7860749e"
   },
   "outputs": [
    {
     "name": "stdout",
     "output_type": "stream",
     "text": [
      "drwx------ 6 root 4096 Jul 28 13:15 \u001b[0m\u001b[01;34mdrive\u001b[0m/\n",
      "drwxr-xr-x 3 root 4096 Jul 28 13:14 \u001b[01;34mkeras-mnist-tutorial\u001b[0m/\n",
      "drwxr-xr-x 1 root 4096 Jul 16 13:20 \u001b[01;34msample_data\u001b[0m/\n"
     ]
    }
   ],
   "source": [
    "%ldir"
   ]
  },
  {
   "cell_type": "code",
   "execution_count": 22,
   "metadata": {
    "colab": {
     "base_uri": "https://localhost:8080/"
    },
    "id": "cuPumiSmRp1T",
    "outputId": "2071717c-b984-4f4b-fe16-69a4ecbbfbc7"
   },
   "outputs": [
    {
     "name": "stdout",
     "output_type": "stream",
     "text": [
      "import time\n",
      "print (time.ctime())\n",
      "time.sleep(5)\n",
      "print(time.ctime())\n",
      "message = 'A Great Tutorial on Colab by Tutorialspoint!'\n",
      "greeting = !echo -e '$message\\n$message'\n",
      "greeting\n",
      "!wget http://mlr.cs.umass.edu/ml/machine-learning-databases/adult/adult.data -P\n",
      "\"/content/drive/My Drive/app\"\n",
      "import pandas as pd\n",
      "data = pd.read_csv(\"/content/drive/My Drive/app/adult.data.1\")\n",
      "data.head(5)\n",
      "!wget http://mlr.cs.umass.edu/ml/machine-learning-databases/adult/adult.data -P\n",
      "\"/content/drive/My Drive/app\"\n",
      "import pandas as pd\n",
      "data = pd.read_csv(\"/content/drive/My Drive/app/adult.data.1\")\n",
      "data.head(5)\n",
      "!git clone https://github.com/wxs/keras-mnist-tutorial.git\n",
      "!ls /bin\n",
      "from google.colab import drive\n",
      "drive.mount('/content/drive')\n",
      "!ls \"/content/drive/My Drive/Colab Notebooks\"\n",
      "!python3 \"/content/drive/My Drive/Colab Notebooks/hello.py\"\n",
      "print(\"Welcome to TutorialsPoint!\")\n",
      "import numpy as np\n",
      "from matplotlib import pyplot as plt\n",
      "\n",
      "y = np.random.randn(100)\n",
      "x = [x for x in range(len(y))]\n",
      "\n",
      "plt.plot(x, y, '-')\n",
      "plt.fill_between(x, y, 200, where=(y > 195), facecolor='g', alpha=0.6)\n",
      "\n",
      "plt.title(\"Sample Plot\")\n",
      "plt.show()\n",
      "import torch\n",
      "Tensor = torch.\n",
      "import torch\n",
      "Tensor = torch.cos()\n",
      "import torch\n",
      "Tensor = torch.cos(45)\n",
      "import torch\n",
      "Tensor = torch.cos(45,4)\n",
      "import torch\n",
      "Tensor = torch.randn(4)\n",
      "import torch\n",
      "Tensor = torch.randn(4)\n",
      "%ldir\n",
      "%history\n"
     ]
    }
   ],
   "source": [
    "%history"
   ]
  },
  {
   "cell_type": "code",
   "execution_count": 23,
   "metadata": {
    "colab": {
     "base_uri": "https://localhost:8080/",
     "height": 38
    },
    "id": "Nma-WUMaRu1A",
    "outputId": "f7a4de2e-d5aa-4d3e-e589-53a9c3aafb2c"
   },
   "outputs": [
    {
     "data": {
      "text/html": [
       "<marquee style='width: 50%; color: Green;'><b>Welcome to\n",
       "Tutorialspoint!</b></marquee>"
      ],
      "text/plain": [
       "<IPython.core.display.HTML object>"
      ]
     },
     "metadata": {
      "tags": []
     },
     "output_type": "display_data"
    }
   ],
   "source": [
    "%%html\n",
    "<marquee style='width: 50%; color: Green;'><b>Welcome to\n",
    "Tutorialspoint!</b></marquee>"
   ]
  },
  {
   "cell_type": "code",
   "execution_count": 24,
   "metadata": {
    "colab": {
     "base_uri": "https://localhost:8080/",
     "height": 421
    },
    "id": "yXbwVda1RyOe",
    "outputId": "a3ca3f9a-9fc1-4a91-ece9-1e8077916824"
   },
   "outputs": [
    {
     "data": {
      "text/html": [
       "<svg xmlns=\"http://www.w3.org/2000/svg\" viewBox=\"0 0 600 400\" width=\"400\"\n",
       "height=\"400\">\n",
       "<rect x=\"10\" y=\"00\" width=\"300\" height=\"100\" rx=\"0\" style=\"fill:orange;\n",
       "stroke:black; fill-opacity:1.0\" />\n",
       "<rect x=\"10\" y=\"100\" width=\"300\" height=\"100\" rx=\"0\" style=\"fill:white;\n",
       "stroke:black; fill-opacity:1.0;\" />\n",
       "<rect x=\"10\" y=\"200\" width=\"300\" height=\"100\" rx=\"0\" style=\"fill:green;\n",
       "stroke:black; fill-opacity:1.0;\" />\n",
       "</svg>"
      ],
      "text/plain": [
       "<IPython.core.display.HTML object>"
      ]
     },
     "metadata": {
      "tags": []
     },
     "output_type": "display_data"
    }
   ],
   "source": [
    "%%html\n",
    "<svg xmlns=\"http://www.w3.org/2000/svg\" viewBox=\"0 0 600 400\" width=\"400\"\n",
    "height=\"400\">\n",
    "<rect x=\"10\" y=\"00\" width=\"300\" height=\"100\" rx=\"0\" style=\"fill:orange;\n",
    "stroke:black; fill-opacity:1.0\" />\n",
    "<rect x=\"10\" y=\"100\" width=\"300\" height=\"100\" rx=\"0\" style=\"fill:white;\n",
    "stroke:black; fill-opacity:1.0;\" />\n",
    "<rect x=\"10\" y=\"200\" width=\"300\" height=\"100\" rx=\"0\" style=\"fill:green;\n",
    "stroke:black; fill-opacity:1.0;\" />\n",
    "</svg>"
   ]
  },
  {
   "cell_type": "code",
   "execution_count": 25,
   "metadata": {
    "colab": {
     "base_uri": "https://localhost:8080/",
     "height": 156
    },
    "id": "G2fkk_BbR1kU",
    "outputId": "73734272-270d-489c-c04a-bfe1a9725144"
   },
   "outputs": [
    {
     "data": {
      "application/json": {
       "cell": {
        "!": "OSMagics",
        "HTML": "Other",
        "SVG": "Other",
        "bash": "Other",
        "bigquery": "Other",
        "capture": "ExecutionMagics",
        "debug": "ExecutionMagics",
        "file": "Other",
        "html": "DisplayMagics",
        "javascript": "DisplayMagics",
        "js": "DisplayMagics",
        "latex": "DisplayMagics",
        "perl": "Other",
        "prun": "ExecutionMagics",
        "pypy": "Other",
        "python": "Other",
        "python2": "Other",
        "python3": "Other",
        "ruby": "Other",
        "script": "ScriptMagics",
        "sh": "Other",
        "shell": "Other",
        "svg": "DisplayMagics",
        "sx": "OSMagics",
        "system": "OSMagics",
        "time": "ExecutionMagics",
        "timeit": "ExecutionMagics",
        "writefile": "OSMagics"
       },
       "line": {
        "alias": "OSMagics",
        "alias_magic": "BasicMagics",
        "autocall": "AutoMagics",
        "automagic": "AutoMagics",
        "autosave": "KernelMagics",
        "bookmark": "OSMagics",
        "cat": "Other",
        "cd": "OSMagics",
        "clear": "KernelMagics",
        "colors": "BasicMagics",
        "config": "ConfigMagics",
        "connect_info": "KernelMagics",
        "cp": "Other",
        "debug": "ExecutionMagics",
        "dhist": "OSMagics",
        "dirs": "OSMagics",
        "doctest_mode": "BasicMagics",
        "ed": "Other",
        "edit": "KernelMagics",
        "env": "OSMagics",
        "gui": "BasicMagics",
        "hist": "Other",
        "history": "HistoryMagics",
        "killbgscripts": "ScriptMagics",
        "ldir": "Other",
        "less": "KernelMagics",
        "lf": "Other",
        "lk": "Other",
        "ll": "Other",
        "load": "CodeMagics",
        "load_ext": "ExtensionMagics",
        "loadpy": "CodeMagics",
        "logoff": "LoggingMagics",
        "logon": "LoggingMagics",
        "logstart": "LoggingMagics",
        "logstate": "LoggingMagics",
        "logstop": "LoggingMagics",
        "ls": "Other",
        "lsmagic": "BasicMagics",
        "lx": "Other",
        "macro": "ExecutionMagics",
        "magic": "BasicMagics",
        "man": "KernelMagics",
        "matplotlib": "PylabMagics",
        "mkdir": "Other",
        "more": "KernelMagics",
        "mv": "Other",
        "notebook": "BasicMagics",
        "page": "BasicMagics",
        "pastebin": "CodeMagics",
        "pdb": "ExecutionMagics",
        "pdef": "NamespaceMagics",
        "pdoc": "NamespaceMagics",
        "pfile": "NamespaceMagics",
        "pinfo": "NamespaceMagics",
        "pinfo2": "NamespaceMagics",
        "pip": "Other",
        "popd": "OSMagics",
        "pprint": "BasicMagics",
        "precision": "BasicMagics",
        "profile": "BasicMagics",
        "prun": "ExecutionMagics",
        "psearch": "NamespaceMagics",
        "psource": "NamespaceMagics",
        "pushd": "OSMagics",
        "pwd": "OSMagics",
        "pycat": "OSMagics",
        "pylab": "PylabMagics",
        "qtconsole": "KernelMagics",
        "quickref": "BasicMagics",
        "recall": "HistoryMagics",
        "rehashx": "OSMagics",
        "reload_ext": "ExtensionMagics",
        "rep": "Other",
        "rerun": "HistoryMagics",
        "reset": "NamespaceMagics",
        "reset_selective": "NamespaceMagics",
        "rm": "Other",
        "rmdir": "Other",
        "run": "ExecutionMagics",
        "save": "CodeMagics",
        "sc": "OSMagics",
        "set_env": "OSMagics",
        "shell": "Other",
        "store": "StoreMagics",
        "sx": "OSMagics",
        "system": "OSMagics",
        "tb": "ExecutionMagics",
        "tensorflow_version": "Other",
        "time": "ExecutionMagics",
        "timeit": "ExecutionMagics",
        "unalias": "OSMagics",
        "unload_ext": "ExtensionMagics",
        "who": "NamespaceMagics",
        "who_ls": "NamespaceMagics",
        "whos": "NamespaceMagics",
        "xdel": "NamespaceMagics",
        "xmode": "BasicMagics"
       }
      },
      "text/plain": [
       "Available line magics:\n",
       "%alias  %alias_magic  %autocall  %automagic  %autosave  %bookmark  %cat  %cd  %clear  %colors  %config  %connect_info  %cp  %debug  %dhist  %dirs  %doctest_mode  %ed  %edit  %env  %gui  %hist  %history  %killbgscripts  %ldir  %less  %lf  %lk  %ll  %load  %load_ext  %loadpy  %logoff  %logon  %logstart  %logstate  %logstop  %ls  %lsmagic  %lx  %macro  %magic  %man  %matplotlib  %mkdir  %more  %mv  %notebook  %page  %pastebin  %pdb  %pdef  %pdoc  %pfile  %pinfo  %pinfo2  %pip  %popd  %pprint  %precision  %profile  %prun  %psearch  %psource  %pushd  %pwd  %pycat  %pylab  %qtconsole  %quickref  %recall  %rehashx  %reload_ext  %rep  %rerun  %reset  %reset_selective  %rm  %rmdir  %run  %save  %sc  %set_env  %shell  %store  %sx  %system  %tb  %tensorflow_version  %time  %timeit  %unalias  %unload_ext  %who  %who_ls  %whos  %xdel  %xmode\n",
       "\n",
       "Available cell magics:\n",
       "%%!  %%HTML  %%SVG  %%bash  %%bigquery  %%capture  %%debug  %%file  %%html  %%javascript  %%js  %%latex  %%perl  %%prun  %%pypy  %%python  %%python2  %%python3  %%ruby  %%script  %%sh  %%shell  %%svg  %%sx  %%system  %%time  %%timeit  %%writefile\n",
       "\n",
       "Automagic is ON, % prefix IS NOT needed for line magics."
      ]
     },
     "execution_count": 25,
     "metadata": {
      "tags": []
     },
     "output_type": "execute_result"
    }
   ],
   "source": [
    "%lsmagic"
   ]
  },
  {
   "cell_type": "code",
   "execution_count": 28,
   "metadata": {
    "colab": {
     "base_uri": "https://localhost:8080/"
    },
    "id": "XGEkouyaSKME",
    "outputId": "45bea77d-ac37-4011-bdd3-7cbbc451ba78"
   },
   "outputs": [
    {
     "name": "stdout",
     "output_type": "stream",
     "text": [
      "Wed Jul 28 13:26:29 2021\n",
      "Wed Jul 28 13:26:34 2021\n",
      "\n",
      "\n",
      "Wed Jul 28 13:26:34 2021\n",
      "Wed Jul 28 13:26:34 2021\n"
     ]
    }
   ],
   "source": [
    "#@title Form\n",
    "sleep_time = 0 #@param {type:\"integer\"}\n",
    "import time\n",
    "print(time.ctime())\n",
    "time.sleep(5)\n",
    "print (time.ctime())\n",
    "print('\\n')\n",
    "import time\n",
    "print(time.ctime())\n",
    "time.sleep(sleep_time)\n",
    "print (time.ctime())"
   ]
  },
  {
   "cell_type": "code",
   "execution_count": 29,
   "metadata": {
    "colab": {
     "base_uri": "https://localhost:8080/"
    },
    "id": "j15qZAL1TDE1",
    "outputId": "d7687cd7-afdd-4211-da65-e90babf53001"
   },
   "outputs": [
    {
     "name": "stdout",
     "output_type": "stream",
     "text": [
      "Wed Jul 28 13:27:20 2021\n",
      "Wed Jul 28 13:27:25 2021\n",
      "\n",
      "\n",
      "Wed Jul 28 13:27:25 2021\n",
      "Wed Jul 28 13:27:27 2021\n"
     ]
    }
   ],
   "source": [
    "#@title Form\n",
    "sleep_time =  2#@param {type:\"integer\"}\n",
    "import time\n",
    "print(time.ctime())\n",
    "time.sleep(5)\n",
    "print (time.ctime())\n",
    "print('\\n')\n",
    "import time\n",
    "print(time.ctime())\n",
    "time.sleep(sleep_time)\n",
    "print (time.ctime())"
   ]
  },
  {
   "cell_type": "code",
   "execution_count": 30,
   "metadata": {
    "colab": {
     "base_uri": "https://localhost:8080/"
    },
    "id": "2KtX5CdJTU52",
    "outputId": "f6ce339f-37ef-4304-8f87-dea003080726"
   },
   "outputs": [
    {
     "name": "stdout",
     "output_type": "stream",
     "text": [
      "Tutorialspoint\n"
     ]
    }
   ],
   "source": [
    "name = 'Tutorialspoint' #@param {type:\"string\"}\n",
    "print(name)"
   ]
  },
  {
   "cell_type": "code",
   "execution_count": 31,
   "metadata": {
    "colab": {
     "base_uri": "https://localhost:8080/"
    },
    "id": "lhdlaH-cTZuM",
    "outputId": "be48ccc7-dd19-47fe-a490-6850dccddcfa"
   },
   "outputs": [
    {
     "name": "stdout",
     "output_type": "stream",
     "text": [
      "green\n"
     ]
    }
   ],
   "source": [
    "color = 'green' #@param [\"red\", \"green\", \"blue\"]\n",
    "print(color)"
   ]
  },
  {
   "cell_type": "code",
   "execution_count": 32,
   "metadata": {
    "colab": {
     "base_uri": "https://localhost:8080/"
    },
    "id": "0a6jBp7MTd8D",
    "outputId": "0cec0c76-e99f-43b9-c29f-13fa097f6462"
   },
   "outputs": [
    {
     "name": "stdout",
     "output_type": "stream",
     "text": [
      "2019-06-03\n"
     ]
    }
   ],
   "source": [
    "#@title Date fields\n",
    "date_input = '2019-06-03' #@param {type:\"date\"}\n",
    "print(date_input)"
   ]
  },
  {
   "cell_type": "code",
   "execution_count": 34,
   "metadata": {
    "id": "5IaUvyd9Tjco"
   },
   "outputs": [],
   "source": [
    "!pip install -q keras"
   ]
  },
  {
   "cell_type": "code",
   "execution_count": 35,
   "metadata": {
    "colab": {
     "base_uri": "https://localhost:8080/"
    },
    "id": "RxcWnjdpTx9V",
    "outputId": "f491aaa2-c86a-43dc-f7b8-17c4fa9fe419"
   },
   "outputs": [
    {
     "name": "stdout",
     "output_type": "stream",
     "text": [
      "Requirement already satisfied: torch in /usr/local/lib/python3.7/dist-packages (1.9.0+cu102)\n",
      "Requirement already satisfied: torchvision in /usr/local/lib/python3.7/dist-packages (0.10.0+cu102)\n",
      "Requirement already satisfied: typing-extensions in /usr/local/lib/python3.7/dist-packages (from torch) (3.7.4.3)\n",
      "Requirement already satisfied: numpy in /usr/local/lib/python3.7/dist-packages (from torchvision) (1.19.5)\n",
      "Requirement already satisfied: pillow>=5.3.0 in /usr/local/lib/python3.7/dist-packages (from torchvision) (7.1.2)\n"
     ]
    }
   ],
   "source": [
    "!pip3 install torch torchvision"
   ]
  },
  {
   "cell_type": "code",
   "execution_count": 36,
   "metadata": {
    "colab": {
     "base_uri": "https://localhost:8080/"
    },
    "id": "PRIj73dwT0r3",
    "outputId": "c7ee03e6-85ca-4a8d-9129-0670137b3ec3"
   },
   "outputs": [
    {
     "name": "stdout",
     "output_type": "stream",
     "text": [
      "Reading package lists... Done\n",
      "Building dependency tree       \n",
      "Reading state information... Done\n",
      "E: Unable to locate package libnvrtc8.0\n",
      "E: Couldn't find any package by glob 'libnvrtc8.0'\n",
      "E: Couldn't find any package by regex 'libnvrtc8.0'\n",
      "Collecting mxnet-cu80\n",
      "  Downloading mxnet_cu80-1.5.0-py2.py3-none-manylinux1_x86_64.whl (372.1 MB)\n",
      "\u001b[K     |████████████████████████████████| 372.1 MB 38 kB/s \n",
      "\u001b[?25hCollecting graphviz<0.9.0,>=0.8.1\n",
      "  Downloading graphviz-0.8.4-py2.py3-none-any.whl (16 kB)\n",
      "Requirement already satisfied: numpy<2.0.0,>1.16.0 in /usr/local/lib/python3.7/dist-packages (from mxnet-cu80) (1.19.5)\n",
      "Requirement already satisfied: requests<3,>=2.20.0 in /usr/local/lib/python3.7/dist-packages (from mxnet-cu80) (2.23.0)\n",
      "Requirement already satisfied: idna<3,>=2.5 in /usr/local/lib/python3.7/dist-packages (from requests<3,>=2.20.0->mxnet-cu80) (2.10)\n",
      "Requirement already satisfied: chardet<4,>=3.0.2 in /usr/local/lib/python3.7/dist-packages (from requests<3,>=2.20.0->mxnet-cu80) (3.0.4)\n",
      "Requirement already satisfied: certifi>=2017.4.17 in /usr/local/lib/python3.7/dist-packages (from requests<3,>=2.20.0->mxnet-cu80) (2021.5.30)\n",
      "Requirement already satisfied: urllib3!=1.25.0,!=1.25.1,<1.26,>=1.21.1 in /usr/local/lib/python3.7/dist-packages (from requests<3,>=2.20.0->mxnet-cu80) (1.24.3)\n",
      "Installing collected packages: graphviz, mxnet-cu80\n",
      "  Attempting uninstall: graphviz\n",
      "    Found existing installation: graphviz 0.10.1\n",
      "    Uninstalling graphviz-0.10.1:\n",
      "      Successfully uninstalled graphviz-0.10.1\n",
      "Successfully installed graphviz-0.8.4 mxnet-cu80-1.5.0\n"
     ]
    }
   ],
   "source": [
    "!apt install libnvrtc8.0\n",
    "!pip install mxnet-cu80"
   ]
  },
  {
   "cell_type": "code",
   "execution_count": 37,
   "metadata": {
    "colab": {
     "base_uri": "https://localhost:8080/"
    },
    "id": "ilAl8zV2T5Dc",
    "outputId": "76b859e6-9be4-4ef2-e30a-eb97f41810f1"
   },
   "outputs": [
    {
     "name": "stdout",
     "output_type": "stream",
     "text": [
      "\u001b[K     |████████████████████████████████| 49.9 MB 16 kB/s \n",
      "\u001b[31mERROR: pip's dependency resolver does not currently take into account all the packages that are installed. This behaviour is the source of the following dependency conflicts.\n",
      "albumentations 0.1.12 requires imgaug<0.2.7,>=0.2.5, but you have imgaug 0.2.9 which is incompatible.\u001b[0m\n",
      "\u001b[?25h"
     ]
    }
   ],
   "source": [
    "!apt-get -qq install -y libsm6 libxext6 && pip install -q -U opencv-python"
   ]
  },
  {
   "cell_type": "code",
   "execution_count": 38,
   "metadata": {
    "colab": {
     "base_uri": "https://localhost:8080/"
    },
    "id": "6l6OICC_T7_y",
    "outputId": "43c5a20d-6208-4690-d511-ac6a07c393d8"
   },
   "outputs": [
    {
     "name": "stdout",
     "output_type": "stream",
     "text": [
      "\u001b[?25l\r",
      "\u001b[K     |▍                               | 10 kB 22.4 MB/s eta 0:00:01\r",
      "\u001b[K     |▉                               | 20 kB 29.7 MB/s eta 0:00:01\r",
      "\u001b[K     |█▎                              | 30 kB 12.7 MB/s eta 0:00:01\r",
      "\u001b[K     |█▊                              | 40 kB 9.1 MB/s eta 0:00:01\r",
      "\u001b[K     |██▏                             | 51 kB 5.2 MB/s eta 0:00:01\r",
      "\u001b[K     |██▋                             | 61 kB 5.1 MB/s eta 0:00:01\r",
      "\u001b[K     |███                             | 71 kB 5.8 MB/s eta 0:00:01\r",
      "\u001b[K     |███▌                            | 81 kB 6.3 MB/s eta 0:00:01\r",
      "\u001b[K     |████                            | 92 kB 6.1 MB/s eta 0:00:01\r",
      "\u001b[K     |████▍                           | 102 kB 6.7 MB/s eta 0:00:01\r",
      "\u001b[K     |████▉                           | 112 kB 6.7 MB/s eta 0:00:01\r",
      "\u001b[K     |█████▏                          | 122 kB 6.7 MB/s eta 0:00:01\r",
      "\u001b[K     |█████▋                          | 133 kB 6.7 MB/s eta 0:00:01\r",
      "\u001b[K     |██████                          | 143 kB 6.7 MB/s eta 0:00:01\r",
      "\u001b[K     |██████▌                         | 153 kB 6.7 MB/s eta 0:00:01\r",
      "\u001b[K     |███████                         | 163 kB 6.7 MB/s eta 0:00:01\r",
      "\u001b[K     |███████▍                        | 174 kB 6.7 MB/s eta 0:00:01\r",
      "\u001b[K     |███████▉                        | 184 kB 6.7 MB/s eta 0:00:01\r",
      "\u001b[K     |████████▎                       | 194 kB 6.7 MB/s eta 0:00:01\r",
      "\u001b[K     |████████▊                       | 204 kB 6.7 MB/s eta 0:00:01\r",
      "\u001b[K     |█████████▏                      | 215 kB 6.7 MB/s eta 0:00:01\r",
      "\u001b[K     |█████████▋                      | 225 kB 6.7 MB/s eta 0:00:01\r",
      "\u001b[K     |██████████                      | 235 kB 6.7 MB/s eta 0:00:01\r",
      "\u001b[K     |██████████▍                     | 245 kB 6.7 MB/s eta 0:00:01\r",
      "\u001b[K     |██████████▉                     | 256 kB 6.7 MB/s eta 0:00:01\r",
      "\u001b[K     |███████████▎                    | 266 kB 6.7 MB/s eta 0:00:01\r",
      "\u001b[K     |███████████▊                    | 276 kB 6.7 MB/s eta 0:00:01\r",
      "\u001b[K     |████████████▏                   | 286 kB 6.7 MB/s eta 0:00:01\r",
      "\u001b[K     |████████████▋                   | 296 kB 6.7 MB/s eta 0:00:01\r",
      "\u001b[K     |█████████████                   | 307 kB 6.7 MB/s eta 0:00:01\r",
      "\u001b[K     |█████████████▌                  | 317 kB 6.7 MB/s eta 0:00:01\r",
      "\u001b[K     |██████████████                  | 327 kB 6.7 MB/s eta 0:00:01\r",
      "\u001b[K     |██████████████▍                 | 337 kB 6.7 MB/s eta 0:00:01\r",
      "\u001b[K     |██████████████▉                 | 348 kB 6.7 MB/s eta 0:00:01\r",
      "\u001b[K     |███████████████▏                | 358 kB 6.7 MB/s eta 0:00:01\r",
      "\u001b[K     |███████████████▋                | 368 kB 6.7 MB/s eta 0:00:01\r",
      "\u001b[K     |████████████████                | 378 kB 6.7 MB/s eta 0:00:01\r",
      "\u001b[K     |████████████████▌               | 389 kB 6.7 MB/s eta 0:00:01\r",
      "\u001b[K     |█████████████████               | 399 kB 6.7 MB/s eta 0:00:01\r",
      "\u001b[K     |█████████████████▍              | 409 kB 6.7 MB/s eta 0:00:01\r",
      "\u001b[K     |█████████████████▉              | 419 kB 6.7 MB/s eta 0:00:01\r",
      "\u001b[K     |██████████████████▎             | 430 kB 6.7 MB/s eta 0:00:01\r",
      "\u001b[K     |██████████████████▊             | 440 kB 6.7 MB/s eta 0:00:01\r",
      "\u001b[K     |███████████████████▏            | 450 kB 6.7 MB/s eta 0:00:01\r",
      "\u001b[K     |███████████████████▋            | 460 kB 6.7 MB/s eta 0:00:01\r",
      "\u001b[K     |████████████████████            | 471 kB 6.7 MB/s eta 0:00:01\r",
      "\u001b[K     |████████████████████▍           | 481 kB 6.7 MB/s eta 0:00:01\r",
      "\u001b[K     |████████████████████▉           | 491 kB 6.7 MB/s eta 0:00:01\r",
      "\u001b[K     |█████████████████████▎          | 501 kB 6.7 MB/s eta 0:00:01\r",
      "\u001b[K     |█████████████████████▊          | 512 kB 6.7 MB/s eta 0:00:01\r",
      "\u001b[K     |██████████████████████▏         | 522 kB 6.7 MB/s eta 0:00:01\r",
      "\u001b[K     |██████████████████████▋         | 532 kB 6.7 MB/s eta 0:00:01\r",
      "\u001b[K     |███████████████████████         | 542 kB 6.7 MB/s eta 0:00:01\r",
      "\u001b[K     |███████████████████████▌        | 552 kB 6.7 MB/s eta 0:00:01\r",
      "\u001b[K     |████████████████████████        | 563 kB 6.7 MB/s eta 0:00:01\r",
      "\u001b[K     |████████████████████████▍       | 573 kB 6.7 MB/s eta 0:00:01\r",
      "\u001b[K     |████████████████████████▉       | 583 kB 6.7 MB/s eta 0:00:01\r",
      "\u001b[K     |█████████████████████████▏      | 593 kB 6.7 MB/s eta 0:00:01\r",
      "\u001b[K     |█████████████████████████▋      | 604 kB 6.7 MB/s eta 0:00:01\r",
      "\u001b[K     |██████████████████████████      | 614 kB 6.7 MB/s eta 0:00:01\r",
      "\u001b[K     |██████████████████████████▌     | 624 kB 6.7 MB/s eta 0:00:01\r",
      "\u001b[K     |███████████████████████████     | 634 kB 6.7 MB/s eta 0:00:01\r",
      "\u001b[K     |███████████████████████████▍    | 645 kB 6.7 MB/s eta 0:00:01\r",
      "\u001b[K     |███████████████████████████▉    | 655 kB 6.7 MB/s eta 0:00:01\r",
      "\u001b[K     |████████████████████████████▎   | 665 kB 6.7 MB/s eta 0:00:01\r",
      "\u001b[K     |████████████████████████████▊   | 675 kB 6.7 MB/s eta 0:00:01\r",
      "\u001b[K     |█████████████████████████████▏  | 686 kB 6.7 MB/s eta 0:00:01\r",
      "\u001b[K     |█████████████████████████████▋  | 696 kB 6.7 MB/s eta 0:00:01\r",
      "\u001b[K     |██████████████████████████████  | 706 kB 6.7 MB/s eta 0:00:01\r",
      "\u001b[K     |██████████████████████████████▍ | 716 kB 6.7 MB/s eta 0:00:01\r",
      "\u001b[K     |██████████████████████████████▉ | 727 kB 6.7 MB/s eta 0:00:01\r",
      "\u001b[K     |███████████████████████████████▎| 737 kB 6.7 MB/s eta 0:00:01\r",
      "\u001b[K     |███████████████████████████████▊| 747 kB 6.7 MB/s eta 0:00:01\r",
      "\u001b[K     |████████████████████████████████| 753 kB 6.7 MB/s \n",
      "\u001b[?25h  Building wheel for xgboost (setup.py) ... \u001b[?25l\u001b[?25hdone\n"
     ]
    }
   ],
   "source": [
    "!pip install -q xgboost==0.4a30"
   ]
  },
  {
   "cell_type": "code",
   "execution_count": 39,
   "metadata": {
    "id": "N1q5ILnAUHwL"
   },
   "outputs": [],
   "source": [
    "!apt-get -qq install -y graphviz && pip install -q pydot"
   ]
  },
  {
   "cell_type": "code",
   "execution_count": 1,
   "metadata": {
    "colab": {
     "base_uri": "https://localhost:8080/"
    },
    "id": "GsTTDPhbUto6",
    "outputId": "cb4d9546-8343-4994-ddfe-e43d5ada07a3"
   },
   "outputs": [
    {
     "name": "stdout",
     "output_type": "stream",
     "text": [
      "python3: can't open file '/content/drive/My Drive/app/mnist_cnn.py': [Errno 2] No such file or directory\n"
     ]
    }
   ],
   "source": [
    "!python3 \"/content/drive/My Drive/app/mnist_cnn.py\""
   ]
  },
  {
   "cell_type": "code",
   "execution_count": null,
   "metadata": {
    "id": "pguaQv9tVoW7"
   },
   "outputs": [],
   "source": []
  },
  {
   "cell_type": "code",
   "execution_count": 6,
   "metadata": {
    "colab": {
     "base_uri": "https://localhost:8080/"
    },
    "id": "IV98iLezVxWU",
    "outputId": "8c68b850-1ac2-4614-f7d4-0be720a98ab0"
   },
   "outputs": [
    {
     "data": {
      "text/plain": [
       "[name: \"/device:CPU:0\"\n",
       " device_type: \"CPU\"\n",
       " memory_limit: 268435456\n",
       " locality {\n",
       " }\n",
       " incarnation: 15089156093707379139, name: \"/device:GPU:0\"\n",
       " device_type: \"GPU\"\n",
       " memory_limit: 11344216064\n",
       " locality {\n",
       "   bus_id: 1\n",
       "   links {\n",
       "   }\n",
       " }\n",
       " incarnation: 12934614963997589799\n",
       " physical_device_desc: \"device: 0, name: Tesla K80, pci bus id: 0000:00:04.0, compute capability: 3.7\"]"
      ]
     },
     "execution_count": 6,
     "metadata": {
      "tags": []
     },
     "output_type": "execute_result"
    }
   ],
   "source": [
    "\n",
    "from tensorflow.python.client import device_lib\n",
    "device_lib.list_local_devices()\n"
   ]
  },
  {
   "cell_type": "code",
   "execution_count": 5,
   "metadata": {
    "colab": {
     "base_uri": "https://localhost:8080/",
     "height": 35
    },
    "id": "sJ0ENX6DVpre",
    "outputId": "e124a752-409b-468e-df80-584fecec9212"
   },
   "outputs": [
    {
     "data": {
      "application/vnd.google.colaboratory.intrinsic+json": {
       "type": "string"
      },
      "text/plain": [
       "'/device:GPU:0'"
      ]
     },
     "execution_count": 5,
     "metadata": {
      "tags": []
     },
     "output_type": "execute_result"
    }
   ],
   "source": [
    "import tensorflow as tf\n",
    "tf.test.gpu_device_name()\n"
   ]
  },
  {
   "cell_type": "code",
   "execution_count": 4,
   "metadata": {
    "colab": {
     "base_uri": "https://localhost:8080/"
    },
    "id": "Gi2k2Sy5VG6l",
    "outputId": "b7a36f42-b1eb-4c9b-873a-fd7320805b9a"
   },
   "outputs": [
    {
     "name": "stdout",
     "output_type": "stream",
     "text": [
      "MemTotal:       13302924 kB\n",
      "MemFree:         9481212 kB\n",
      "MemAvailable:   12105100 kB\n",
      "Buffers:           87144 kB\n",
      "Cached:          2578336 kB\n",
      "SwapCached:            0 kB\n",
      "Active:          1272156 kB\n",
      "Inactive:        2188892 kB\n",
      "Active(anon):     665300 kB\n",
      "Inactive(anon):     2492 kB\n",
      "Active(file):     606856 kB\n",
      "Inactive(file):  2186400 kB\n",
      "Unevictable:           0 kB\n",
      "Mlocked:               0 kB\n",
      "SwapTotal:             0 kB\n",
      "SwapFree:              0 kB\n",
      "Dirty:               316 kB\n",
      "Writeback:             0 kB\n",
      "AnonPages:        795672 kB\n",
      "Mapped:           590356 kB\n",
      "Shmem:              3228 kB\n",
      "KReclaimable:     144216 kB\n",
      "Slab:             200324 kB\n",
      "SReclaimable:     144216 kB\n",
      "SUnreclaim:        56108 kB\n",
      "KernelStack:        5760 kB\n",
      "PageTables:         8980 kB\n",
      "NFS_Unstable:          0 kB\n",
      "Bounce:                0 kB\n",
      "WritebackTmp:          0 kB\n",
      "CommitLimit:     6651460 kB\n",
      "Committed_AS:    4117676 kB\n",
      "VmallocTotal:   34359738367 kB\n",
      "VmallocUsed:       47588 kB\n",
      "VmallocChunk:          0 kB\n",
      "Percpu:             1400 kB\n",
      "AnonHugePages:         0 kB\n",
      "ShmemHugePages:        0 kB\n",
      "ShmemPmdMapped:        0 kB\n",
      "FileHugePages:         0 kB\n",
      "FilePmdMapped:         0 kB\n",
      "CmaTotal:              0 kB\n",
      "CmaFree:               0 kB\n",
      "HugePages_Total:       0\n",
      "HugePages_Free:        0\n",
      "HugePages_Rsvd:        0\n",
      "HugePages_Surp:        0\n",
      "Hugepagesize:       2048 kB\n",
      "Hugetlb:               0 kB\n",
      "DirectMap4k:      205632 kB\n",
      "DirectMap2M:     7131136 kB\n",
      "DirectMap1G:     8388608 kB\n"
     ]
    }
   ],
   "source": [
    "import tensorflow as tf\n",
    "tf.test.gpu_device_name()\n",
    "\n",
    "from tensorflow.python.client import device_lib\n",
    "device_lib.list_local_devices()\n",
    "\n",
    "!cat /proc/meminfo"
   ]
  }
 ],
 "metadata": {
  "accelerator": "GPU",
  "colab": {
   "name": "iit2019011_Tutorial1",
   "provenance": []
  },
  "kernelspec": {
   "display_name": "Python 3",
   "language": "python",
   "name": "python3"
  },
  "language_info": {
   "codemirror_mode": {
    "name": "ipython",
    "version": 3
   },
   "file_extension": ".py",
   "mimetype": "text/x-python",
   "name": "python",
   "nbconvert_exporter": "python",
   "pygments_lexer": "ipython3",
   "version": "3.9.5"
  }
 },
 "nbformat": 4,
 "nbformat_minor": 1
}
